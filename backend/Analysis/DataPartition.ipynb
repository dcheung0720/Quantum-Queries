{
 "cells": [
  {
   "cell_type": "code",
   "execution_count": 1,
   "metadata": {},
   "outputs": [],
   "source": [
    "import pandas as pd\n",
    "from datetime import datetime as dt\n",
    "import firebase_admin\n",
    "from firebase_admin import credentials\n",
    "from firebase_admin import db\n",
    "import json\n",
    "\n"
   ]
  },
  {
   "cell_type": "code",
   "execution_count": 4,
   "metadata": {},
   "outputs": [],
   "source": [
    "df = pd.read_csv(\"../Data/Crimes2001_to_Present.csv\")"
   ]
  },
  {
   "cell_type": "code",
   "execution_count": 5,
   "metadata": {},
   "outputs": [],
   "source": [
    "df[\"Month\"] = df[\"Date\"].apply(lambda x: dt.strptime(x, \"%m/%d/%Y %I:%M:%S %p\").month)"
   ]
  },
  {
   "cell_type": "code",
   "execution_count": 5,
   "metadata": {},
   "outputs": [],
   "source": [
    "years = [i for i in range(2022, 2024)]\n",
    "months = [i for i in range(1, 13)]\n",
    "for year in years:\n",
    "    for month in months:\n",
    "       partial_df = df[(df[\"Year\"] == year) & (df[\"Month\"] == month)].copy()\n",
    "       partial_df.dropna(inplace=True)  # Modify the copied DataFrame\n",
    "       data_dict = partial_df.to_dict(orient='split')[\"data\"]\n",
    "       ref = db.reference(f\"/{year}/{month}/\")\n",
    "       ref.set(data_dict)"
   ]
  },
  {
   "cell_type": "code",
   "execution_count": 6,
   "metadata": {},
   "outputs": [],
   "source": [
    "#creatying one big json file\n",
    "partial_df = df[(df[\"Year\"] >= 2017) & (df[\"Year\"] <= 2023)].copy()\n",
    "partial_df.dropna(inplace=True)  # Modify the copied DataFrame\n",
    "partial_df.to_json(\"../Data/2017-2023.json\", orient='split')"
   ]
  },
  {
   "cell_type": "code",
   "execution_count": 8,
   "metadata": {},
   "outputs": [
    {
     "name": "stdout",
     "output_type": "stream",
     "text": [
      "{1: {2017: {'crimeCount': 1118}, 2018: {'crimeCount': 998}, 2019: {'crimeCount': 1119}, 2020: {'crimeCount': 840}, 2021: {'crimeCount': 949}, 2022: {'crimeCount': 1053}, 2023: {'crimeCount': 1142}}, 2: {2017: {'crimeCount': 3118}, 2018: {'crimeCount': 2479}, 2019: {'crimeCount': 1043}, 2020: {'crimeCount': 687}, 2021: {'crimeCount': 920}, 2022: {'crimeCount': 869}, 2023: {'crimeCount': 937}}, 3: {2017: {'crimeCount': 2606}, 2018: {'crimeCount': 2642}, 2019: {'crimeCount': 2548}, 2020: {'crimeCount': 2143}, 2021: {'crimeCount': 2282}, 2022: {'crimeCount': 2303}, 2023: {'crimeCount': 2311}}, 4: {2017: {'crimeCount': 1530}, 2018: {'crimeCount': 1648}, 2019: {'crimeCount': 2086}, 2020: {'crimeCount': 1814}, 2021: {'crimeCount': 1963}, 2022: {'crimeCount': 2267}, 2023: {'crimeCount': 2297}}, 5: {2017: {'crimeCount': 2272}, 2018: {'crimeCount': 2117}, 2019: {'crimeCount': 1991}, 2020: {'crimeCount': 1854}, 2021: {'crimeCount': 1936}, 2022: {'crimeCount': 1931}, 2023: {'crimeCount': 1912}}, 6: {2017: {'crimeCount': 3105}, 2018: {'crimeCount': 3103}, 2019: {'crimeCount': 3737}, 2020: {'crimeCount': 3221}, 2021: {'crimeCount': 3199}, 2022: {'crimeCount': 3088}, 2023: {'crimeCount': 3366}}, 7: {2017: {'crimeCount': 2663}, 2018: {'crimeCount': 2602}, 2019: {'crimeCount': 2725}, 2020: {'crimeCount': 2635}, 2021: {'crimeCount': 2631}, 2022: {'crimeCount': 2725}, 2023: {'crimeCount': 2826}}, 8: {2017: {'crimeCount': 2564}, 2018: {'crimeCount': 2602}, 2019: {'crimeCount': 2872}, 2020: {'crimeCount': 2635}, 2021: {'crimeCount': 2792}, 2022: {'crimeCount': 2543}, 2023: {'crimeCount': 2776}}, 9: {2017: {'crimeCount': 2529}, 2018: {'crimeCount': 2546}, 2019: {'crimeCount': 2756}, 2020: {'crimeCount': 2396}, 2021: {'crimeCount': 2324}, 2022: {'crimeCount': 2270}, 2023: {'crimeCount': 2660}}, 10: {2017: {'crimeCount': 1470}, 2018: {'crimeCount': 1484}, 2019: {'crimeCount': 1332}, 2020: {'crimeCount': 1177}, 2021: {'crimeCount': 1375}, 2022: {'crimeCount': 1396}, 2023: {'crimeCount': 1862}}, 11: {2017: {'crimeCount': 944}, 2018: {'crimeCount': 891}, 2019: {'crimeCount': 850}, 2020: {'crimeCount': 766}, 2021: {'crimeCount': 839}, 2022: {'crimeCount': 877}, 2023: {'crimeCount': 895}}, 12: {2017: {'crimeCount': 1081}, 2018: {'crimeCount': 1037}, 2019: {'crimeCount': 957}, 2020: {'crimeCount': 946}, 2021: {'crimeCount': 939}, 2022: {'crimeCount': 1123}, 2023: {'crimeCount': 1080}}, 13: {2017: {'crimeCount': 808}, 2018: {'crimeCount': 741}, 2019: {'crimeCount': 638}, 2020: {'crimeCount': 509}, 2021: {'crimeCount': 566}, 2022: {'crimeCount': 605}, 2023: {'crimeCount': 649}}, 14: {2017: {'crimeCount': 1046}, 2018: {'crimeCount': 928}, 2019: {'crimeCount': 870}, 2020: {'crimeCount': 779}, 2021: {'crimeCount': 804}, 2022: {'crimeCount': 977}, 2023: {'crimeCount': 1187}}, 15: {2017: {'crimeCount': 2258}, 2018: {'crimeCount': 2190}, 2019: {'crimeCount': 1376}, 2020: {'crimeCount': 1238}, 2021: {'crimeCount': 1262}, 2022: {'crimeCount': 1336}, 2023: {'crimeCount': 1613}}, 16: {2017: {'crimeCount': 2386}, 2018: {'crimeCount': 2557}, 2019: {'crimeCount': 3055}, 2020: {'crimeCount': 2670}, 2021: {'crimeCount': 2453}, 2022: {'crimeCount': 2323}, 2023: {'crimeCount': 2783}}, 17: {2017: {'crimeCount': 3382}, 2018: {'crimeCount': 3281}, 2019: {'crimeCount': 3163}, 2020: {'crimeCount': 2723}, 2021: {'crimeCount': 2551}, 2022: {'crimeCount': 2521}, 2023: {'crimeCount': 2931}}, 18: {2017: {'crimeCount': 1428}, 2018: {'crimeCount': 1339}, 2019: {'crimeCount': 1125}, 2020: {'crimeCount': 950}, 2021: {'crimeCount': 926}, 2022: {'crimeCount': 992}, 2023: {'crimeCount': 1123}}, 19: {2017: {'crimeCount': 561}, 2018: {'crimeCount': 488}, 2019: {'crimeCount': 472}, 2020: {'crimeCount': 421}, 2021: {'crimeCount': 487}, 2022: {'crimeCount': 518}, 2023: {'crimeCount': 621}}, 20: {2017: {'crimeCount': 3086}, 2018: {'crimeCount': 2894}, 2019: {'crimeCount': 3155}, 2020: {'crimeCount': 2747}, 2021: {'crimeCount': 2743}, 2022: {'crimeCount': 2721}, 2023: {'crimeCount': 3051}}, 21: {2017: {'crimeCount': 2571}, 2018: {'crimeCount': 2627}, 2019: {'crimeCount': 2737}, 2020: {'crimeCount': 2324}, 2021: {'crimeCount': 2381}, 2022: {'crimeCount': 2443}, 2023: {'crimeCount': 2468}}, 22: {2017: {'crimeCount': 1066}, 2018: {'crimeCount': 1111}, 2019: {'crimeCount': 1072}, 2020: {'crimeCount': 977}, 2021: {'crimeCount': 997}, 2022: {'crimeCount': 1068}, 2023: {'crimeCount': 1254}}, 23: {2017: {'crimeCount': 755}, 2018: {'crimeCount': 730}, 2019: {'crimeCount': 667}, 2020: {'crimeCount': 637}, 2021: {'crimeCount': 657}, 2022: {'crimeCount': 679}, 2023: {'crimeCount': 736}}, 24: {2017: {'crimeCount': 4262}, 2018: {'crimeCount': 4117}, 2019: {'crimeCount': 3675}, 2020: {'crimeCount': 3463}, 2021: {'crimeCount': 3015}, 2022: {'crimeCount': 2973}, 2023: {'crimeCount': 3313}}, 25: {2017: {'crimeCount': 1176}, 2018: {'crimeCount': 1167}, 2019: {'crimeCount': 1367}, 2020: {'crimeCount': 1157}, 2021: {'crimeCount': 1368}, 2022: {'crimeCount': 1544}, 2023: {'crimeCount': 1541}}, 26: {2017: {'crimeCount': 1240}, 2018: {'crimeCount': 1209}, 2019: {'crimeCount': 1232}, 2020: {'crimeCount': 1131}, 2021: {'crimeCount': 1045}, 2022: {'crimeCount': 1167}, 2023: {'crimeCount': 1508}}, 27: {2017: {'crimeCount': 2682}, 2018: {'crimeCount': 2889}, 2019: {'crimeCount': 3288}, 2020: {'crimeCount': 2632}, 2021: {'crimeCount': 2837}, 2022: {'crimeCount': 3106}, 2023: {'crimeCount': 3511}}, 28: {2017: {'crimeCount': 4161}, 2018: {'crimeCount': 4274}, 2019: {'crimeCount': 4282}, 2020: {'crimeCount': 3947}, 2021: {'crimeCount': 3758}, 2022: {'crimeCount': 3505}, 2023: {'crimeCount': 4017}}, 29: {2017: {'crimeCount': 2118}, 2018: {'crimeCount': 2113}, 2019: {'crimeCount': 2221}, 2020: {'crimeCount': 2224}, 2021: {'crimeCount': 1913}, 2022: {'crimeCount': 1913}, 2023: {'crimeCount': 1873}}, 30: {2017: {'crimeCount': 1068}, 2018: {'crimeCount': 979}, 2019: {'crimeCount': 817}, 2020: {'crimeCount': 786}, 2021: {'crimeCount': 732}, 2022: {'crimeCount': 830}, 2023: {'crimeCount': 916}}, 31: {2017: {'crimeCount': 997}, 2018: {'crimeCount': 962}, 2019: {'crimeCount': 925}, 2020: {'crimeCount': 829}, 2021: {'crimeCount': 741}, 2022: {'crimeCount': 801}, 2023: {'crimeCount': 1112}}, 32: {2017: {'crimeCount': 736}, 2018: {'crimeCount': 621}, 2019: {'crimeCount': 494}, 2020: {'crimeCount': 425}, 2021: {'crimeCount': 552}, 2022: {'crimeCount': 583}, 2023: {'crimeCount': 640}}, 33: {2017: {'crimeCount': 662}, 2018: {'crimeCount': 771}, 2019: {'crimeCount': 623}, 2020: {'crimeCount': 594}, 2021: {'crimeCount': 627}, 2022: {'crimeCount': 643}, 2023: {'crimeCount': 842}}, 34: {2017: {'crimeCount': 2335}, 2018: {'crimeCount': 2338}, 2019: {'crimeCount': 2221}, 2020: {'crimeCount': 2170}, 2021: {'crimeCount': 2023}, 2022: {'crimeCount': 1820}, 2023: {'crimeCount': 1540}}, 35: {2017: {'crimeCount': 862}, 2018: {'crimeCount': 881}, 2019: {'crimeCount': 844}, 2020: {'crimeCount': 793}, 2021: {'crimeCount': 763}, 2022: {'crimeCount': 753}, 2023: {'crimeCount': 1013}}, 36: {2017: {'crimeCount': 717}, 2018: {'crimeCount': 756}, 2019: {'crimeCount': 912}, 2020: {'crimeCount': 790}, 2021: {'crimeCount': 746}, 2022: {'crimeCount': 807}, 2023: {'crimeCount': 1183}}, 37: {2017: {'crimeCount': 2211}, 2018: {'crimeCount': 2432}, 2019: {'crimeCount': 2664}, 2020: {'crimeCount': 2535}, 2021: {'crimeCount': 2191}, 2022: {'crimeCount': 2028}, 2023: {'crimeCount': 2633}}, 38: {2017: {'crimeCount': 746}, 2018: {'crimeCount': 749}, 2019: {'crimeCount': 559}, 2020: {'crimeCount': 467}, 2021: {'crimeCount': 588}, 2022: {'crimeCount': 596}, 2023: {'crimeCount': 557}}, 39: {2017: {'crimeCount': 661}, 2018: {'crimeCount': 668}, 2019: {'crimeCount': 557}, 2020: {'crimeCount': 516}, 2021: {'crimeCount': 475}, 2022: {'crimeCount': 614}, 2023: {'crimeCount': 649}}, 40: {2017: {'crimeCount': 767}, 2018: {'crimeCount': 824}, 2019: {'crimeCount': 723}, 2020: {'crimeCount': 691}, 2021: {'crimeCount': 772}, 2022: {'crimeCount': 779}, 2023: {'crimeCount': 855}}, 41: {2017: {'crimeCount': 595}, 2018: {'crimeCount': 634}, 2019: {'crimeCount': 597}, 2020: {'crimeCount': 416}, 2021: {'crimeCount': 602}, 2022: {'crimeCount': 654}, 2023: {'crimeCount': 661}}, 42: {2017: {'crimeCount': 2766}, 2018: {'crimeCount': 3041}, 2019: {'crimeCount': 2885}, 2020: {'crimeCount': 1650}, 2021: {'crimeCount': 2312}, 2022: {'crimeCount': 2714}, 2023: {'crimeCount': 2193}}, 43: {2017: {'crimeCount': 631}, 2018: {'crimeCount': 633}, 2019: {'crimeCount': 556}, 2020: {'crimeCount': 373}, 2021: {'crimeCount': 424}, 2022: {'crimeCount': 424}, 2023: {'crimeCount': 482}}, 44: {2017: {'crimeCount': 908}, 2018: {'crimeCount': 903}, 2019: {'crimeCount': 951}, 2020: {'crimeCount': 592}, 2021: {'crimeCount': 834}, 2022: {'crimeCount': 952}, 2023: {'crimeCount': 913}}, 45: {2017: {'crimeCount': 649}, 2018: {'crimeCount': 664}, 2019: {'crimeCount': 665}, 2020: {'crimeCount': 654}, 2021: {'crimeCount': 673}, 2022: {'crimeCount': 664}, 2023: {'crimeCount': 737}}, 46: {2017: {'crimeCount': 976}, 2018: {'crimeCount': 1008}, 2019: {'crimeCount': 995}, 2020: {'crimeCount': 794}, 2021: {'crimeCount': 995}, 2022: {'crimeCount': 1041}, 2023: {'crimeCount': 1247}}, 47: {2017: {'crimeCount': 494}, 2018: {'crimeCount': 474}, 2019: {'crimeCount': 395}, 2020: {'crimeCount': 392}, 2021: {'crimeCount': 464}, 2022: {'crimeCount': 496}, 2023: {'crimeCount': 562}}, 48: {2017: {'crimeCount': 696}, 2018: {'crimeCount': 800}, 2019: {'crimeCount': 764}, 2020: {'crimeCount': 732}, 2021: {'crimeCount': 843}, 2022: {'crimeCount': 941}, 2023: {'crimeCount': 970}}, 49: {2017: {'crimeCount': 1084}, 2018: {'crimeCount': 1119}, 2019: {'crimeCount': 1143}, 2020: {'crimeCount': 1056}, 2021: {'crimeCount': 1122}, 2022: {'crimeCount': 1230}, 2023: {'crimeCount': 1318}}, 50: {2017: {'crimeCount': 746}, 2018: {'crimeCount': 790}, 2019: {'crimeCount': 695}, 2020: {'crimeCount': 687}, 2021: {'crimeCount': 652}, 2022: {'crimeCount': 796}, 2023: {'crimeCount': 802}}}\n"
     ]
    }
   ],
   "source": [
    "#get violent crime counts by ward and \n",
    "partial_df = df[(df[\"Year\"] >= 2017) & (df[\"Year\"] <= 2023)].copy()\n",
    "violentCrimes = ['BATTERY', 'ASSAULT', 'ROBBERY', 'CRIMINAL SEXUAL ASSAULT', 'HOMICIDE']\n",
    "\n",
    "ward_data = {\n",
    "\n",
    "}\n",
    "wards = [i + 1 for i in range(50)]\n",
    "years = [i for i in range(2017, 2024)]\n",
    "for ward in wards:\n",
    "    data = {}\n",
    "    for year in years: \n",
    "        filtered_partial_df = partial_df[(partial_df[\"Ward\"] == ward) & (partial_df[\"Year\"] == year) & (partial_df[\"Primary Type\"].isin(violentCrimes))]\n",
    "        data[year] = {\n",
    "            \"crimeCount\": len(filtered_partial_df)\n",
    "        }\n",
    "    ward_data[ward] = data\n",
    "\n",
    "print(ward_data)\n"
   ]
  },
  {
   "cell_type": "code",
   "execution_count": 10,
   "metadata": {},
   "outputs": [],
   "source": [
    "import json  \n",
    "json_object = json.dumps(ward_data, indent = 4) \n",
    "file_name = \"../Data/ward_data.json\"\n",
    "\n",
    "with open(file_name, 'w') as file:\n",
    "    file.write(json_object)\n",
    "\n"
   ]
  }
 ],
 "metadata": {
  "kernelspec": {
   "display_name": "Python 3",
   "language": "python",
   "name": "python3"
  },
  "language_info": {
   "codemirror_mode": {
    "name": "ipython",
    "version": 3
   },
   "file_extension": ".py",
   "mimetype": "text/x-python",
   "name": "python",
   "nbconvert_exporter": "python",
   "pygments_lexer": "ipython3",
   "version": "3.11.4"
  }
 },
 "nbformat": 4,
 "nbformat_minor": 2
}

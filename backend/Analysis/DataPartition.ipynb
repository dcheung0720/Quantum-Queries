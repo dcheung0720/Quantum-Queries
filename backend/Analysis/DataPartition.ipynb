{
 "cells": [
  {
   "cell_type": "code",
   "execution_count": 2,
   "metadata": {},
   "outputs": [
    {
     "data": {
      "text/plain": [
       "<firebase_admin.App at 0x240bc637160>"
      ]
     },
     "execution_count": 2,
     "metadata": {},
     "output_type": "execute_result"
    }
   ],
   "source": [
    "import pandas as pd\n",
    "from datetime import datetime as dt\n",
    "import firebase_admin\n",
    "from firebase_admin import credentials\n",
    "from firebase_admin import db\n",
    "import json\n",
    "\n",
    "# Fetch the service account key JSON file contents\n",
    "cred = credentials.Certificate('../Secrets/chicagocrimeanalysis-a24e2-firebase-adminsdk-7b0qc-5abe0f5d88.json')\n",
    "\n",
    "# Initialize the app with a service account, granting admin privileges\n",
    "firebase_admin.initialize_app(cred, {\n",
    "    'databaseURL': 'https://chicagocrimeanalysis-a24e2-default-rtdb.firebaseio.com'\n",
    "})\n",
    "\n"
   ]
  },
  {
   "cell_type": "code",
   "execution_count": 3,
   "metadata": {},
   "outputs": [],
   "source": [
    "df = pd.read_csv(\"../Data/Crimes2001_to_Present.csv\")"
   ]
  },
  {
   "cell_type": "code",
   "execution_count": 4,
   "metadata": {},
   "outputs": [],
   "source": [
    "df[\"Month\"] = df[\"Date\"].apply(lambda x: dt.strptime(x, \"%m/%d/%Y %I:%M:%S %p\").month)"
   ]
  },
  {
   "cell_type": "code",
   "execution_count": 5,
   "metadata": {},
   "outputs": [],
   "source": [
    "years = [i for i in range(2022, 2024)]\n",
    "months = [i for i in range(1, 13)]\n",
    "for year in years:\n",
    "    for month in months:\n",
    "       partial_df = df[(df[\"Year\"] == year) & (df[\"Month\"] == month)].copy()\n",
    "       partial_df.dropna(inplace=True)  # Modify the copied DataFrame\n",
    "       data_dict = partial_df.to_dict(orient='split')[\"data\"]\n",
    "       ref = db.reference(f\"/{year}/{month}/\")\n",
    "       ref.set(data_dict)"
   ]
  },
  {
   "cell_type": "code",
   "execution_count": 6,
   "metadata": {},
   "outputs": [],
   "source": [
    "#creatying one big json file\n",
    "partial_df = df[(df[\"Year\"] >= 2017) & (df[\"Month\"] <= 2023)].copy()\n",
    "partial_df.dropna(inplace=True)  # Modify the copied DataFrame\n",
    "partial_df.to_json(\"../Data/2017-2023.json\", orient='split')"
   ]
  }
 ],
 "metadata": {
  "kernelspec": {
   "display_name": "Python 3",
   "language": "python",
   "name": "python3"
  },
  "language_info": {
   "codemirror_mode": {
    "name": "ipython",
    "version": 3
   },
   "file_extension": ".py",
   "mimetype": "text/x-python",
   "name": "python",
   "nbconvert_exporter": "python",
   "pygments_lexer": "ipython3",
   "version": "3.10.13"
  }
 },
 "nbformat": 4,
 "nbformat_minor": 2
}
